{
 "cells": [
  {
   "cell_type": "code",
   "execution_count": 64,
   "id": "9b63cfc1",
   "metadata": {},
   "outputs": [],
   "source": [
    "import torch\n",
    "from torch import nn\n",
    "from typing import List\n",
    "import torch.nn.functional as F\n",
    "from transformers import AutoTokenizer, AutoModelWithLMHead\n",
    "import pytorch_lightning as pl\n",
    "from torch.utils.data import DataLoader, Dataset\n",
    "import pandas as pd\n",
    "from sklearn.metrics import classification_report\n",
    "torch.__version__\n",
    "from tqdm import tqdm\n",
    "import numpy as np\n",
    "import matplotlib.pyplot as plt\n",
    "from transformers import T5Tokenizer, T5ForConditionalGeneration"
   ]
  },
  {
   "cell_type": "code",
   "execution_count": 51,
   "id": "477e9874",
   "metadata": {},
   "outputs": [],
   "source": [
    "tokenizer = T5Tokenizer.from_pretrained(\"t5-base\")\n",
    "model = T5ForConditionalGeneration.from_pretrained(\"t5-base\")\n",
    "\n",
    "# tokenizer = AutoTokenizer.from_pretrained(\"mrm8488/t5-base-finetuned-emotion\")\n",
    "# model = AutoModelWithLMHead.from_pretrained(\"mrm8488/t5-base-finetuned-emotion\")"
   ]
  },
  {
   "cell_type": "code",
   "execution_count": 52,
   "id": "4e00886a",
   "metadata": {},
   "outputs": [],
   "source": [
    "def rank_nlp_dataset_final(dataset, tokenizer, model, prefix):\n",
    "\n",
    "    from cleanlab.rank import get_label_quality_scores\n",
    "    #### Run the model \n",
    "\n",
    "    def get_emotion_probs(text):\n",
    "        with torch.no_grad():\n",
    "            enc = tokenizer(prefix+text, return_tensors=\"pt\", padding=True)\n",
    "\n",
    "            decoder_input_ids = torch.tensor([tokenizer.pad_token_id]).unsqueeze(0)\n",
    "            \n",
    "            logits = model(**enc, decoder_input_ids=decoder_input_ids)[0]\n",
    "#             tokens = torch.argmax(logits, dim=2)\n",
    "#             emotion = tokenizer.batch_decode(tokens)\n",
    "        return F.softmax(logits,dim=2).squeeze(0)\n",
    "    \n",
    "    ## Get pred probs\n",
    "    pred_probs=[]\n",
    "    given = []\n",
    "    for idx in tqdm(range(len(dataset))):\n",
    "        text,target_emo = dataset[idx]\n",
    "        pred_probs.append(get_emotion_probs(text)[0])\n",
    "        given.append(tokenizer.encode(target_emo)[:-1])\n",
    "\n",
    "        \n",
    "    ## Prep for cleanlab\n",
    "    pred_probs = np.stack(pred_probs)\n",
    "    given = np.array(given)\n",
    "    \n",
    "    ranked_label_issues = get_label_quality_scores(given, pred_probs)\n",
    "    return ranked_label_issues"
   ]
  },
  {
   "cell_type": "code",
   "execution_count": 53,
   "id": "80204673",
   "metadata": {},
   "outputs": [
    {
     "name": "stderr",
     "output_type": "stream",
     "text": [
      "WARNING:datasets.builder:Using custom data configuration en\n",
      "WARNING:datasets.builder:Reusing dataset xsum (/home/vedang/.cache/huggingface/datasets/xsum/en/1.2.0/32c23220eadddb1149b16ed2e9430a05293768cfffbdfd151058697d4c11f934)\n"
     ]
    },
    {
     "data": {
      "application/vnd.jupyter.widget-view+json": {
       "model_id": "4031ea1690e94a87b9c630c6c5db5480",
       "version_major": 2,
       "version_minor": 0
      },
      "text/plain": [
       "  0%|          | 0/3 [00:00<?, ?it/s]"
      ]
     },
     "metadata": {},
     "output_type": "display_data"
    }
   ],
   "source": [
    "from datasets import load_dataset\n",
    "dataset = load_dataset(\"xsum\", \"en\")\n",
    "# dataset = load_dataset(\"amazon_reviews_multi\", \"en\")"
   ]
  },
  {
   "cell_type": "code",
   "execution_count": 54,
   "id": "a4f45a4c",
   "metadata": {},
   "outputs": [
    {
     "data": {
      "text/plain": [
       "204045"
      ]
     },
     "execution_count": 54,
     "metadata": {},
     "output_type": "execute_result"
    }
   ],
   "source": [
    "len(dataset['train'])"
   ]
  },
  {
   "cell_type": "code",
   "execution_count": 55,
   "id": "55f68abd",
   "metadata": {},
   "outputs": [],
   "source": [
    "# english_dataset = load_dataset(\"amazon_reviews_multi\", \"en\")"
   ]
  },
  {
   "cell_type": "code",
   "execution_count": 56,
   "id": "c7018d66",
   "metadata": {},
   "outputs": [
    {
     "data": {
      "text/plain": [
       "{'document': 'The full cost of damage in Newton Stewart, one of the areas worst affected, is still being assessed.\\nRepair work is ongoing in Hawick and many roads in Peeblesshire remain badly affected by standing water.\\nTrains on the west coast mainline face disruption due to damage at the Lamington Viaduct.\\nMany businesses and householders were affected by flooding in Newton Stewart after the River Cree overflowed into the town.\\nFirst Minister Nicola Sturgeon visited the area to inspect the damage.\\nThe waters breached a retaining wall, flooding many commercial properties on Victoria Street - the main shopping thoroughfare.\\nJeanette Tate, who owns the Cinnamon Cafe which was badly affected, said she could not fault the multi-agency response once the flood hit.\\nHowever, she said more preventative work could have been carried out to ensure the retaining wall did not fail.\\n\"It is difficult but I do think there is so much publicity for Dumfries and the Nith - and I totally appreciate that - but it is almost like we\\'re neglected or forgotten,\" she said.\\n\"That may not be true but it is perhaps my perspective over the last few days.\\n\"Why were you not ready to help us a bit more when the warning and the alarm alerts had gone out?\"\\nMeanwhile, a flood alert remains in place across the Borders because of the constant rain.\\nPeebles was badly hit by problems, sparking calls to introduce more defences in the area.\\nScottish Borders Council has put a list on its website of the roads worst affected and drivers have been urged not to ignore closure signs.\\nThe Labour Party\\'s deputy Scottish leader Alex Rowley was in Hawick on Monday to see the situation first hand.\\nHe said it was important to get the flood protection plan right but backed calls to speed up the process.\\n\"I was quite taken aback by the amount of damage that has been done,\" he said.\\n\"Obviously it is heart-breaking for people who have been forced out of their homes and the impact on businesses.\"\\nHe said it was important that \"immediate steps\" were taken to protect the areas most vulnerable and a clear timetable put in place for flood prevention plans.\\nHave you been affected by flooding in Dumfries and Galloway or the Borders? Tell us about your experience of the situation and how it was handled. Email us on selkirk.news@bbc.co.uk or dumfries@bbc.co.uk.',\n",
       " 'summary': 'Clean-up operations are continuing across the Scottish Borders and Dumfries and Galloway after flooding caused by Storm Frank.',\n",
       " 'id': '35232142'}"
      ]
     },
     "execution_count": 56,
     "metadata": {},
     "output_type": "execute_result"
    }
   ],
   "source": [
    "dataset['train'][0]"
   ]
  },
  {
   "cell_type": "code",
   "execution_count": 57,
   "id": "c9dd2cbf",
   "metadata": {},
   "outputs": [
    {
     "name": "stderr",
     "output_type": "stream",
     "text": [
      "100%|██████████| 1000/1000 [00:00<00:00, 8602.68it/s]\n"
     ]
    }
   ],
   "source": [
    "smaller_dataset ={}\n",
    "# for i in tqdm(range(len(dataset['validation']))):\n",
    "for i in tqdm(range(1000)):\n",
    "    smaller_dataset[i] = ((dataset['validation'][i][\"document\"], dataset['validation'][i][\"summary\"]))"
   ]
  },
  {
   "cell_type": "code",
   "execution_count": 58,
   "id": "be04ec70",
   "metadata": {},
   "outputs": [
    {
     "name": "stderr",
     "output_type": "stream",
     "text": [
      "  1%|          | 9/1000 [00:01<02:03,  8.00it/s]Token indices sequence length is longer than the specified maximum sequence length for this model (1072 > 512). Running this sequence through the model will result in indexing errors\n",
      "100%|██████████| 1000/1000 [04:20<00:00,  3.84it/s]\n",
      "/datasets/vedang/jup_env/lib/python3.6/site-packages/ipykernel_launcher.py:28: VisibleDeprecationWarning: Creating an ndarray from ragged nested sequences (which is a list-or-tuple of lists-or-tuples-or ndarrays with different lengths or shapes) is deprecated. If you meant to do this, you must specify 'dtype=object' when creating the ndarray\n"
     ]
    }
   ],
   "source": [
    "rank3 = rank_nlp_dataset_final(smaller_dataset,tokenizer,model, \"summarize:\")"
   ]
  },
  {
   "cell_type": "code",
   "execution_count": 59,
   "id": "d4fdbbec",
   "metadata": {},
   "outputs": [
    {
     "data": {
      "text/plain": [
       "array([678, 713, 418, 328, 762, 789, 300, 190, 980, 533, 356, 834, 696,\n",
       "       186, 978, 308, 700, 716, 411, 591, 795, 530, 736, 831, 799, 968,\n",
       "       281, 475, 199,   0, 221, 742, 752, 246, 197, 882, 503, 905, 897,\n",
       "       803, 663, 728, 777, 853, 559, 495, 837, 722, 573,  35,  56, 750,\n",
       "       157, 680, 108, 705, 340,  84, 560, 929, 400, 216,  78, 830, 275,\n",
       "       639,  96, 636, 619, 452, 753, 554, 931,  17, 285, 754, 415, 425,\n",
       "       962, 144,  50, 920, 317, 323, 833, 571, 207, 369, 737, 990, 812,\n",
       "       617, 249, 326, 720, 556, 350, 906, 928,  86, 115, 868, 172,  68,\n",
       "       179,  10,  33,  22,  59, 431, 675, 610, 242, 642, 942, 188, 744,\n",
       "       694, 672, 657, 231, 723, 952, 419, 765, 703, 846, 699,  39, 403,\n",
       "       135, 870, 819, 702, 549, 843, 622, 151, 205, 582, 485, 844, 734,\n",
       "       227, 828, 332,   4, 182, 141,  44, 299, 890, 447, 528, 544, 576,\n",
       "       977, 907, 353, 981, 748, 858, 427, 838,  81, 240, 142, 210, 721,\n",
       "       984,  52, 133, 140, 235, 867,  47, 816, 850, 365, 688, 100, 294,\n",
       "       321, 119, 189, 854, 710, 954, 278, 641, 177, 674, 579, 519, 306,\n",
       "       101, 195, 974, 208, 253,  30,  12,  38, 386, 284, 184, 229,  95,\n",
       "       330,  46, 362, 654, 644,  18,  36, 647, 453, 515, 782, 167, 788,\n",
       "       230, 959,  28, 273, 755, 908, 251, 481, 131, 645, 471,  77, 546,\n",
       "       986,  99, 603, 676, 662, 634, 845, 256, 156, 464, 384, 883, 439,\n",
       "       102,  19,  20, 541, 429, 740, 811, 124, 652, 895, 138, 398, 417,\n",
       "       823, 355, 223, 711, 899, 111, 106,  34, 463, 616, 767, 169, 209,\n",
       "        32, 746, 874, 147, 428, 957, 341, 607, 903, 361, 535, 673, 901,\n",
       "       491, 775, 840,  63, 181, 612, 985, 473, 170, 687, 333, 972, 180,\n",
       "       684, 941, 442, 945, 241, 735, 545, 783, 704, 139, 807, 262,  82,\n",
       "       329, 116, 621, 964,   7, 618, 982,  41, 570, 859, 105, 655, 719,\n",
       "       771, 112, 232, 375, 163,  97,  11, 628, 295, 254, 374,   9, 933,\n",
       "        55, 539, 966, 174, 214, 693, 543, 772, 856, 761,  27, 786, 413,\n",
       "       969, 293, 935, 847, 171, 342, 683, 997, 578, 630, 200, 825, 132,\n",
       "        23, 269, 313, 643, 414, 552,  42, 651, 800, 233, 627, 158, 468,\n",
       "       446, 849, 379, 948, 625, 608, 967, 774, 274, 430, 553, 510, 335,\n",
       "       555, 277, 113, 301, 888, 213, 751,  15, 922, 653, 244, 236, 877,\n",
       "       512, 660, 260,  71, 590, 508, 917, 531, 566, 785, 148, 601, 267,\n",
       "       605, 950, 932, 296, 626, 194, 631, 944, 377,  48, 577, 435, 315,\n",
       "       421, 501,  66, 458, 988, 810, 921, 506, 527, 454, 378, 971,   6,\n",
       "       876, 226, 851, 367,  45, 165, 474,  24, 198, 991, 290, 487, 999,\n",
       "       574, 153, 185, 727, 938, 484, 129,  98, 747, 934, 401, 239, 709,\n",
       "       522, 103, 309, 632, 206, 438, 173, 191, 302, 409, 461, 416, 798,\n",
       "       168, 822, 637, 733, 521, 766, 569, 656, 572, 529,  88, 889, 661,\n",
       "       245, 993,  91, 443, 192, 835, 814,  31, 770, 910, 480, 592, 343,\n",
       "       768, 940, 790, 387, 312, 215, 348, 408, 449, 568, 513, 402, 976,\n",
       "       346, 689, 951, 532, 996, 536, 956, 324, 472, 692, 218, 564, 983,\n",
       "       593, 664, 525, 363, 310, 477,  94, 426, 407, 126,  70, 646, 914,\n",
       "       360, 420, 382, 731, 228,  83, 697, 498, 336, 924, 422, 518, 478,\n",
       "       682, 286, 640, 939, 178, 524, 211, 900, 686, 423, 706, 745, 911,\n",
       "       955, 117, 714, 667, 548, 266, 869,  65, 445, 623, 444, 436, 802,\n",
       "       492, 349, 120, 261, 793,  72, 638, 864, 504, 123, 318, 975,  80,\n",
       "       989, 715, 162, 107, 824, 176, 164, 567, 878, 648, 337, 879, 826,\n",
       "       658, 432, 670, 860, 685, 459, 665, 237, 820, 542,  90, 389, 225,\n",
       "       600, 183,  93, 557, 947, 923, 258, 270, 347, 741, 391, 339, 909,\n",
       "       930, 815, 366, 862, 125, 114,   1, 805,  14, 885,  85, 159, 756,\n",
       "       265, 615, 916, 633, 598, 248, 311, 166, 352, 476, 489, 852, 234,\n",
       "       624, 918, 791, 289, 936, 255, 175, 161, 509, 808, 344, 359, 271,\n",
       "       410, 865, 351, 604, 681,  61, 602, 467, 943, 973, 599, 388, 806,\n",
       "       585, 759, 357, 739, 880, 892, 659, 434, 818, 496, 276, 331, 904,\n",
       "       562, 457,  25, 596, 455, 404, 729, 160, 613, 314, 891, 926, 886,\n",
       "        69, 405, 609, 412, 841, 307, 395, 987, 201, 440, 953, 238, 376,\n",
       "       781, 122,  49, 708, 305, 456, 137, 855, 797, 725, 263, 970,   3,\n",
       "       187, 450,   5, 629, 511, 650, 913, 288, 707, 763, 946, 505, 912,\n",
       "       264, 127, 848, 780, 497, 373, 325, 247, 298, 252, 871, 760, 769,\n",
       "       611,  53,  64, 136, 304, 220, 534, 898, 994, 872, 668, 804, 441,\n",
       "       482,  60, 424,  43, 257, 588, 499, 809,  74, 875, 586, 606, 145,\n",
       "        29, 149, 354, 259, 283, 390,  26, 896, 778, 866, 827, 104, 671,\n",
       "       394, 358, 561, 202, 649,  58, 550, 677,  54, 322, 483, 460, 614,\n",
       "       758, 466,  16, 502, 836, 960, 154, 776, 517, 925, 287, 250, 691,\n",
       "       589, 743, 152, 575, 526, 801, 620, 832, 437, 861,  75, 493, 372,\n",
       "       109, 396, 486, 219, 695, 146, 338, 393, 334, 370,  76, 110, 316,\n",
       "         8, 204, 212, 291, 282, 345, 479, 272, 155, 448, 320,   2, 732,\n",
       "       587, 679, 540, 584, 196, 949, 718, 915, 595,  57, 963, 829,  40,\n",
       "       821, 724, 796, 507, 581,  21, 881, 669, 118, 773, 128, 303, 551,\n",
       "       364,  62, 150, 380, 547, 222, 894,  67, 383, 597, 817, 873, 516,\n",
       "       998, 563, 839, 381, 635, 121, 690, 979, 792,  92, 397, 784, 243,\n",
       "       470, 863, 520, 842, 280, 857, 787, 462, 327, 371, 884, 717, 268,\n",
       "       279, 887, 701,  87, 451, 469, 319,  51, 749, 995, 902, 523, 488,\n",
       "        73, 726, 514, 583, 297, 399, 465, 134, 712, 893,  13, 490, 406,\n",
       "       500, 958, 764, 217, 666, 738, 130, 203, 385, 143, 698,  79, 224,\n",
       "       538, 392, 558,  37, 292, 779, 193, 537, 494,  89, 565, 433, 992,\n",
       "       919, 961, 757, 580, 927, 937, 965, 368, 813, 594, 794, 730])"
      ]
     },
     "execution_count": 59,
     "metadata": {},
     "output_type": "execute_result"
    }
   ],
   "source": [
    "np.argsort(rank3)"
   ]
  },
  {
   "cell_type": "code",
   "execution_count": 49,
   "id": "76638239",
   "metadata": {},
   "outputs": [
    {
     "data": {
      "text/plain": [
       "('The ex-Reading defender denied fraudulent trading charges relating to the Sodje Sports Foundation - a charity to raise money for Nigerian sport.\\nMr Sodje, 37, is jointly charged with elder brothers Efe, 44, Bright, 50 and Stephen, 42.\\nAppearing at the Old Bailey earlier, all four denied the offence.\\nThe charge relates to offences which allegedly took place between 2008 and 2014.\\nSam, from Kent, Efe and Bright, of Greater Manchester, and Stephen, from Bexley, are due to stand trial in July.\\nThey were all released on bail.',\n",
       " 'Former Premier League footballer Sam Sodje has appeared in court alongside three brothers accused of charity fraud.')"
      ]
     },
     "execution_count": 49,
     "metadata": {},
     "output_type": "execute_result"
    }
   ],
   "source": [
    "smaller_dataset[0]"
   ]
  },
  {
   "cell_type": "code",
   "execution_count": 65,
   "id": "f2319b48",
   "metadata": {},
   "outputs": [
    {
     "data": {
      "image/png": "[encoded data removed]",
      "text/plain": [
       "<Figure size 432x288 with 1 Axes>"
      ]
     },
     "metadata": {
      "needs_background": "light"
     },
     "output_type": "display_data"
    }
   ],
   "source": [
    "plt.hist(rank3)\n",
    "plt.show()"
   ]
  },
  {
   "cell_type": "code",
   "execution_count": 66,
   "id": "0adb6c2a",
   "metadata": {},
   "outputs": [],
   "source": [
    "from sklearn.metrics import precision_recall_curve, auc, roc_auc_score, roc_curve\n",
    "import matplotlib.pyplot as plt\n",
    "def lift_at_k(y_true: np.array, y_score: np.array, k: int = 100) -> float:\n",
    "    \"\"\"Compute Lift at K evaluation metric\"\"\"\n",
    "\n",
    "    # sort scores\n",
    "    sort_indices = np.argsort(y_score)\n",
    "\n",
    "    # compute lift for the top k values\n",
    "    lift_at_k = y_true[sort_indices][-k:].mean() / y_true.mean()\n",
    "\n",
    "    return lift_at_k\n",
    "\n",
    "def compute_metrics(scores: np.array, true_error: np.array, metrics_metadata: dict={}, plot=True) -> dict:\n",
    "    \"\"\"\n",
    "    Uses passed in `scores` of length (N,) and `true_error` mask of length (N,) to calculate metrics for the data.\n",
    "    \n",
    "    Parameters\n",
    "    ----------\n",
    "    scores : np.ndarray\n",
    "      Scores per example with values [0,1]. Smaller values indicating examples that are more likeley to have error. \n",
    "      Can come directly from calclation like `scores = get_label_quality_scores()`.\n",
    "    \n",
    "    true_error : np.ndarray\n",
    "      Binary mask indicating which examples have error with 1 = error and 0 = no error.\n",
    "      \n",
    "    metrics_metadata : dict\n",
    "      Additional information to append to the calculated metrics dict.\n",
    "      \n",
    "    Returns\n",
    "    -------\n",
    "    metrics : dict\n",
    "      A dictionary of computed metrics given `scores` and `true_error`. \n",
    "    \"\"\"\n",
    "    # compute precision-recall curve using quality scores\n",
    "    precision, recall, thresholds = precision_recall_curve(true_error, 1 - scores)\n",
    "    \n",
    "    # compute prc auc scores\n",
    "    auprc = auc(recall, precision)\n",
    "    \n",
    "    # compute accuracy of detecting errors\n",
    "    auroc = roc_auc_score(true_error, 1 - scores)\n",
    "\n",
    "    # lift at K where K = number of errors\n",
    "    lift_at_num_errors = lift_at_k(true_error, 1 - scores, k=true_error.sum())\n",
    "\n",
    "    # lift at k=100\n",
    "    lift_at_100 = lift_at_k(true_error, 1 - scores, k=100)\n",
    "    \n",
    "    # feel free to add your own metrics\n",
    "    metrics = {\n",
    "        \"dataset_num_samples\": len(scores),\n",
    "        \"dataset_num_errors\": true_error.sum(),\n",
    "        \"auroc\": auroc,\n",
    "        \"auprc\": auprc,\n",
    "        \"precision\": precision,\n",
    "        \"recall\": recall,\n",
    "        \"thresholds\": thresholds,\n",
    "        \"lift_at_num_errors\": lift_at_num_errors,\n",
    "        \"lift_at_100\": lift_at_100,\n",
    "    }\n",
    "    \n",
    "    if len(metrics_metadata) > 0:\n",
    "        metrics = {**metrics_metadata, **metrics}\n",
    "        \n",
    "    if plot:\n",
    "        fpr, tpr, _ = roc_curve(true_error, 1-scores) \n",
    "        fig1,(ax1, ax2) = plt.subplots(1,2, figsize=(10,5))\n",
    "        ax1.plot(fpr, tpr)\n",
    "        ax1.set_xlabel(\"False Positive Rate\")\n",
    "        ax1.set_ylabel(\"True Positive Rate\")\n",
    "        ax1.set_title(f\"AUROC={auroc}\")\n",
    "        ax2.plot(recall, precision) \n",
    "        ax2.set_xlabel(\"Recall\")\n",
    "        ax2.set_title(f\"AUPRC={auprc}\")\n",
    "        ax2.set_ylabel(\"Precision\")\n",
    "        plt.show()\n",
    "        \n",
    "    return metrics"
   ]
  },
  {
   "cell_type": "code",
   "execution_count": 72,
   "id": "dc3fb34d",
   "metadata": {},
   "outputs": [],
   "source": [
    "dataset_indicies = np.where(rank3>0.01)[0]"
   ]
  },
  {
   "cell_type": "code",
   "execution_count": 74,
   "id": "844cf40c",
   "metadata": {},
   "outputs": [
    {
     "data": {
      "text/plain": [
       "617"
      ]
     },
     "execution_count": 74,
     "metadata": {},
     "output_type": "execute_result"
    }
   ],
   "source": [
    "len(dataset_indicies)"
   ]
  },
  {
   "cell_type": "code",
   "execution_count": 77,
   "id": "48e1932b",
   "metadata": {},
   "outputs": [],
   "source": [
    "new_ts = np.array([smaller_dataset[idx][1] for idx in range(len(dataset_indicies))])"
   ]
  },
  {
   "cell_type": "code",
   "execution_count": 80,
   "id": "82bb5a11",
   "metadata": {},
   "outputs": [],
   "source": [
    "np.random.seed(seed=4)\n",
    "\n",
    "has_error = []\n",
    "new_dataset = {}\n",
    "for idx in range(len(dataset_indicies)):\n",
    "    source,target = smaller_dataset[idx]\n",
    "    if np.random.random() >0.7:\n",
    "        target = np.random.choice(new_ts, 1)[0]\n",
    "        has_error.append(1)\n",
    "    else:\n",
    "        has_error.append(0)\n",
    "    new_dataset[idx] = source, target\n",
    "    \n",
    "    "
   ]
  },
  {
   "cell_type": "code",
   "execution_count": 81,
   "id": "4c6a1f69",
   "metadata": {},
   "outputs": [
    {
     "name": "stderr",
     "output_type": "stream",
     "text": [
      "100%|██████████| 617/617 [02:41<00:00,  3.83it/s]\n",
      "/datasets/vedang/jup_env/lib/python3.6/site-packages/ipykernel_launcher.py:28: VisibleDeprecationWarning: Creating an ndarray from ragged nested sequences (which is a list-or-tuple of lists-or-tuples-or ndarrays with different lengths or shapes) is deprecated. If you meant to do this, you must specify 'dtype=object' when creating the ndarray\n"
     ]
    },
    {
     "data": {
      "image/png": "[encoded data removed]",
      "text/plain": [
       "<Figure size 720x360 with 2 Axes>"
      ]
     },
     "metadata": {
      "needs_background": "light"
     },
     "output_type": "display_data"
    },
    {
     "data": {
      "text/plain": [
       "{'dataset_num_samples': 617,\n",
       " 'dataset_num_errors': 181,\n",
       " 'auroc': 0.5415821886562928,\n",
       " 'auprc': 0.3469014779124606,\n",
       " 'precision': array([0.29575163, 0.29459902, 0.29508197, 0.2955665 , 0.29605263,\n",
       "        0.29654036, 0.29537954, 0.29586777, 0.29635762, 0.29684909,\n",
       "        0.29734219, 0.29783694, 0.29833333, 0.29883139, 0.2993311 ,\n",
       "        0.2998325 , 0.29865772, 0.29915966, 0.2996633 , 0.30016863,\n",
       "        0.30067568, 0.29949239, 0.3       , 0.30050934, 0.29931973,\n",
       "        0.29982964, 0.3003413 , 0.3008547 , 0.30136986, 0.30188679,\n",
       "        0.3024055 , 0.30120482, 0.3       , 0.30051813, 0.30103806,\n",
       "        0.30155979, 0.30208333, 0.30086957, 0.30139373, 0.30191972,\n",
       "        0.30244755, 0.30297723, 0.30350877, 0.30404218, 0.30457746,\n",
       "        0.30511464, 0.30565371, 0.30619469, 0.30673759, 0.30728242,\n",
       "        0.30782918, 0.3083779 , 0.30892857, 0.30948122, 0.31003584,\n",
       "        0.31059246, 0.30935252, 0.30990991, 0.30866426, 0.30922242,\n",
       "        0.30978261, 0.31034483, 0.31090909, 0.31147541, 0.3120438 ,\n",
       "        0.31261426, 0.31318681, 0.31376147, 0.31433824, 0.31491713,\n",
       "        0.31365314, 0.3142329 , 0.31481481, 0.31539889, 0.31598513,\n",
       "        0.31657356, 0.31716418, 0.31775701, 0.31835206, 0.31707317,\n",
       "        0.31766917, 0.31638418, 0.31698113, 0.31758034, 0.31818182,\n",
       "        0.31878558, 0.31939163, 0.32      , 0.31870229, 0.31931166,\n",
       "        0.31992337, 0.31861804, 0.31923077, 0.31984586, 0.32046332,\n",
       "        0.32108317, 0.31976744, 0.32038835, 0.32101167, 0.32163743,\n",
       "        0.32226562, 0.32289628, 0.32352941, 0.32416503, 0.32283465,\n",
       "        0.3234714 , 0.32411067, 0.32475248, 0.3234127 , 0.32206759,\n",
       "        0.32071713, 0.31936128, 0.32      , 0.32064128, 0.31927711,\n",
       "        0.31991952, 0.31854839, 0.31919192, 0.31781377, 0.31845842,\n",
       "        0.31910569, 0.3197556 , 0.32040816, 0.32106339, 0.32172131,\n",
       "        0.32238193, 0.32304527, 0.32371134, 0.32438017, 0.32505176,\n",
       "        0.32365145, 0.32432432, 0.325     , 0.32359081, 0.32217573,\n",
       "        0.32285115, 0.32352941, 0.32421053, 0.32489451, 0.3255814 ,\n",
       "        0.32627119, 0.32696391, 0.32765957, 0.32835821, 0.32905983,\n",
       "        0.32762313, 0.32832618, 0.32903226, 0.32974138, 0.32829374,\n",
       "        0.32900433, 0.32754881, 0.32608696, 0.32461874, 0.32532751,\n",
       "        0.32603939, 0.32675439, 0.32747253, 0.32819383, 0.32891832,\n",
       "        0.32743363, 0.32594235, 0.32666667, 0.32739421, 0.32589286,\n",
       "        0.32662192, 0.32735426, 0.3258427 , 0.32432432, 0.32505643,\n",
       "        0.32352941, 0.32426304, 0.32272727, 0.32346241, 0.32420091,\n",
       "        0.32494279, 0.32568807, 0.32643678, 0.32488479, 0.32332564,\n",
       "        0.32175926, 0.3225058 , 0.32093023, 0.31934732, 0.32009346,\n",
       "        0.32084309, 0.32159624, 0.32235294, 0.32075472, 0.321513  ,\n",
       "        0.31990521, 0.32066508, 0.31904762, 0.31980907, 0.32057416,\n",
       "        0.31894484, 0.31730769, 0.31807229, 0.31642512, 0.31476998,\n",
       "        0.31553398, 0.3163017 , 0.31463415, 0.31540342, 0.31372549,\n",
       "        0.31449631, 0.31280788, 0.31111111, 0.31188119, 0.31265509,\n",
       "        0.31343284, 0.31421446, 0.3125    , 0.31328321, 0.31407035,\n",
       "        0.31486146, 0.31565657, 0.31392405, 0.31472081, 0.31552163,\n",
       "        0.31632653, 0.31713555, 0.31794872, 0.31619537, 0.31701031,\n",
       "        0.31782946, 0.31865285, 0.31948052, 0.31770833, 0.31853786,\n",
       "        0.31937173, 0.32020997, 0.32105263, 0.31926121, 0.32010582,\n",
       "        0.32095491, 0.31914894, 0.31733333, 0.31818182, 0.31635389,\n",
       "        0.31451613, 0.31536388, 0.31621622, 0.31707317, 0.31793478,\n",
       "        0.31880109, 0.31967213, 0.31780822, 0.31868132, 0.31680441,\n",
       "        0.31767956, 0.31855956, 0.31944444, 0.32033426, 0.31843575,\n",
       "        0.31932773, 0.32022472, 0.32112676, 0.3220339 , 0.32011331,\n",
       "        0.32102273, 0.32193732, 0.32285714, 0.32378223, 0.32471264,\n",
       "        0.32564841, 0.32369942, 0.32173913, 0.32267442, 0.32069971,\n",
       "        0.32163743, 0.32258065, 0.32352941, 0.32153392, 0.31952663,\n",
       "        0.31750742, 0.31845238, 0.31940299, 0.31736527, 0.31831832,\n",
       "        0.31626506, 0.3141994 , 0.31212121, 0.31306991, 0.31402439,\n",
       "        0.31192661, 0.31288344, 0.31384615, 0.3117284 , 0.3126935 ,\n",
       "        0.3136646 , 0.31464174, 0.315625  , 0.31661442, 0.31446541,\n",
       "        0.31545741, 0.3164557 , 0.31746032, 0.31528662, 0.31309904,\n",
       "        0.31410256, 0.31189711, 0.31290323, 0.31067961, 0.31168831,\n",
       "        0.31270358, 0.31372549, 0.3147541 , 0.31578947, 0.31353135,\n",
       "        0.31125828, 0.31229236, 0.31      , 0.31103679, 0.31208054,\n",
       "        0.31313131, 0.31418919, 0.31525424, 0.31632653, 0.31399317,\n",
       "        0.31506849, 0.31271478, 0.31034483, 0.31141869, 0.3125    ,\n",
       "        0.31010453, 0.30769231, 0.30526316, 0.30633803, 0.30388693,\n",
       "        0.30141844, 0.3024911 , 0.30357143, 0.3046595 , 0.30215827,\n",
       "        0.29963899, 0.29710145, 0.29818182, 0.29562044, 0.2967033 ,\n",
       "        0.29411765, 0.29151292, 0.29259259, 0.2936803 , 0.29477612,\n",
       "        0.29588015, 0.29699248, 0.29811321, 0.29924242, 0.30038023,\n",
       "        0.29770992, 0.29885057, 0.3       , 0.3011583 , 0.29844961,\n",
       "        0.29571984, 0.296875  , 0.29803922, 0.29527559, 0.29249012,\n",
       "        0.29365079, 0.29083665, 0.292     , 0.29317269, 0.29435484,\n",
       "        0.29554656, 0.29674797, 0.29795918, 0.29918033, 0.30041152,\n",
       "        0.29752066, 0.29460581, 0.29166667, 0.29288703, 0.28991597,\n",
       "        0.29237288, 0.29361702, 0.29487179, 0.29613734, 0.29741379,\n",
       "        0.2987013 , 0.29565217, 0.29694323, 0.29824561, 0.29955947,\n",
       "        0.30088496, 0.30222222, 0.30357143, 0.30493274, 0.30630631,\n",
       "        0.30769231, 0.30454545, 0.30593607, 0.30733945, 0.30875576,\n",
       "        0.30555556, 0.30232558, 0.30046948, 0.30188679, 0.30331754,\n",
       "        0.3047619 , 0.3062201 , 0.30769231, 0.30917874, 0.30582524,\n",
       "        0.30243902, 0.29901961, 0.30049261, 0.3019802 , 0.30348259,\n",
       "        0.3       , 0.30150754, 0.3030303 , 0.29949239, 0.30102041,\n",
       "        0.29896907, 0.29533679, 0.296875  , 0.29842932, 0.3       ,\n",
       "        0.2962963 , 0.29255319, 0.28877005, 0.28648649, 0.28804348,\n",
       "        0.28415301, 0.28571429, 0.28176796, 0.28333333, 0.2849162 ,\n",
       "        0.28651685, 0.28813559, 0.28409091, 0.28571429, 0.28735632,\n",
       "        0.28901734, 0.28488372, 0.28654971, 0.28823529, 0.28994083,\n",
       "        0.28742515, 0.29090909, 0.29268293, 0.29192547, 0.28930818,\n",
       "        0.28481013, 0.2866242 , 0.28387097, 0.28571429, 0.2875817 ,\n",
       "        0.29139073, 0.2972973 , 0.29166667, 0.29370629, 0.28985507,\n",
       "        0.28148148, 0.28358209, 0.28571429, 0.29457364, 0.296     ,\n",
       "        0.31092437, 0.30357143, 0.29411765, 0.28378378, 1.        ]),\n",
       " 'recall': array([1.        , 0.99447514, 0.99447514, 0.99447514, 0.99447514,\n",
       "        0.99447514, 0.98895028, 0.98895028, 0.98895028, 0.98895028,\n",
       "        0.98895028, 0.98895028, 0.98895028, 0.98895028, 0.98895028,\n",
       "        0.98895028, 0.98342541, 0.98342541, 0.98342541, 0.98342541,\n",
       "        0.98342541, 0.97790055, 0.97790055, 0.97790055, 0.97237569,\n",
       "        0.97237569, 0.97237569, 0.97237569, 0.97237569, 0.97237569,\n",
       "        0.97237569, 0.96685083, 0.96132597, 0.96132597, 0.96132597,\n",
       "        0.96132597, 0.96132597, 0.9558011 , 0.9558011 , 0.9558011 ,\n",
       "        0.9558011 , 0.9558011 , 0.9558011 , 0.9558011 , 0.9558011 ,\n",
       "        0.9558011 , 0.9558011 , 0.9558011 , 0.9558011 , 0.9558011 ,\n",
       "        0.9558011 , 0.9558011 , 0.9558011 , 0.9558011 , 0.9558011 ,\n",
       "        0.9558011 , 0.95027624, 0.95027624, 0.94475138, 0.94475138,\n",
       "        0.94475138, 0.94475138, 0.94475138, 0.94475138, 0.94475138,\n",
       "        0.94475138, 0.94475138, 0.94475138, 0.94475138, 0.94475138,\n",
       "        0.93922652, 0.93922652, 0.93922652, 0.93922652, 0.93922652,\n",
       "        0.93922652, 0.93922652, 0.93922652, 0.93922652, 0.93370166,\n",
       "        0.93370166, 0.9281768 , 0.9281768 , 0.9281768 , 0.9281768 ,\n",
       "        0.9281768 , 0.9281768 , 0.9281768 , 0.92265193, 0.92265193,\n",
       "        0.92265193, 0.91712707, 0.91712707, 0.91712707, 0.91712707,\n",
       "        0.91712707, 0.91160221, 0.91160221, 0.91160221, 0.91160221,\n",
       "        0.91160221, 0.91160221, 0.91160221, 0.91160221, 0.90607735,\n",
       "        0.90607735, 0.90607735, 0.90607735, 0.90055249, 0.89502762,\n",
       "        0.88950276, 0.8839779 , 0.8839779 , 0.8839779 , 0.87845304,\n",
       "        0.87845304, 0.87292818, 0.87292818, 0.86740331, 0.86740331,\n",
       "        0.86740331, 0.86740331, 0.86740331, 0.86740331, 0.86740331,\n",
       "        0.86740331, 0.86740331, 0.86740331, 0.86740331, 0.86740331,\n",
       "        0.86187845, 0.86187845, 0.86187845, 0.85635359, 0.85082873,\n",
       "        0.85082873, 0.85082873, 0.85082873, 0.85082873, 0.85082873,\n",
       "        0.85082873, 0.85082873, 0.85082873, 0.85082873, 0.85082873,\n",
       "        0.84530387, 0.84530387, 0.84530387, 0.84530387, 0.83977901,\n",
       "        0.83977901, 0.83425414, 0.82872928, 0.82320442, 0.82320442,\n",
       "        0.82320442, 0.82320442, 0.82320442, 0.82320442, 0.82320442,\n",
       "        0.81767956, 0.8121547 , 0.8121547 , 0.8121547 , 0.80662983,\n",
       "        0.80662983, 0.80662983, 0.80110497, 0.79558011, 0.79558011,\n",
       "        0.79005525, 0.79005525, 0.78453039, 0.78453039, 0.78453039,\n",
       "        0.78453039, 0.78453039, 0.78453039, 0.77900552, 0.77348066,\n",
       "        0.7679558 , 0.7679558 , 0.76243094, 0.75690608, 0.75690608,\n",
       "        0.75690608, 0.75690608, 0.75690608, 0.75138122, 0.75138122,\n",
       "        0.74585635, 0.74585635, 0.74033149, 0.74033149, 0.74033149,\n",
       "        0.73480663, 0.72928177, 0.72928177, 0.72375691, 0.71823204,\n",
       "        0.71823204, 0.71823204, 0.71270718, 0.71270718, 0.70718232,\n",
       "        0.70718232, 0.70165746, 0.6961326 , 0.6961326 , 0.6961326 ,\n",
       "        0.6961326 , 0.6961326 , 0.69060773, 0.69060773, 0.69060773,\n",
       "        0.69060773, 0.69060773, 0.68508287, 0.68508287, 0.68508287,\n",
       "        0.68508287, 0.68508287, 0.68508287, 0.67955801, 0.67955801,\n",
       "        0.67955801, 0.67955801, 0.67955801, 0.67403315, 0.67403315,\n",
       "        0.67403315, 0.67403315, 0.67403315, 0.66850829, 0.66850829,\n",
       "        0.66850829, 0.66298343, 0.65745856, 0.65745856, 0.6519337 ,\n",
       "        0.64640884, 0.64640884, 0.64640884, 0.64640884, 0.64640884,\n",
       "        0.64640884, 0.64640884, 0.64088398, 0.64088398, 0.63535912,\n",
       "        0.63535912, 0.63535912, 0.63535912, 0.63535912, 0.62983425,\n",
       "        0.62983425, 0.62983425, 0.62983425, 0.62983425, 0.62430939,\n",
       "        0.62430939, 0.62430939, 0.62430939, 0.62430939, 0.62430939,\n",
       "        0.62430939, 0.61878453, 0.61325967, 0.61325967, 0.60773481,\n",
       "        0.60773481, 0.60773481, 0.60773481, 0.60220994, 0.59668508,\n",
       "        0.59116022, 0.59116022, 0.59116022, 0.58563536, 0.58563536,\n",
       "        0.5801105 , 0.57458564, 0.56906077, 0.56906077, 0.56906077,\n",
       "        0.56353591, 0.56353591, 0.56353591, 0.55801105, 0.55801105,\n",
       "        0.55801105, 0.55801105, 0.55801105, 0.55801105, 0.55248619,\n",
       "        0.55248619, 0.55248619, 0.55248619, 0.54696133, 0.54143646,\n",
       "        0.54143646, 0.5359116 , 0.5359116 , 0.53038674, 0.53038674,\n",
       "        0.53038674, 0.53038674, 0.53038674, 0.53038674, 0.52486188,\n",
       "        0.51933702, 0.51933702, 0.51381215, 0.51381215, 0.51381215,\n",
       "        0.51381215, 0.51381215, 0.51381215, 0.51381215, 0.50828729,\n",
       "        0.50828729, 0.50276243, 0.49723757, 0.49723757, 0.49723757,\n",
       "        0.49171271, 0.48618785, 0.48066298, 0.48066298, 0.47513812,\n",
       "        0.46961326, 0.46961326, 0.46961326, 0.46961326, 0.4640884 ,\n",
       "        0.45856354, 0.45303867, 0.45303867, 0.44751381, 0.44751381,\n",
       "        0.44198895, 0.43646409, 0.43646409, 0.43646409, 0.43646409,\n",
       "        0.43646409, 0.43646409, 0.43646409, 0.43646409, 0.43646409,\n",
       "        0.43093923, 0.43093923, 0.43093923, 0.43093923, 0.42541436,\n",
       "        0.4198895 , 0.4198895 , 0.4198895 , 0.41436464, 0.40883978,\n",
       "        0.40883978, 0.40331492, 0.40331492, 0.40331492, 0.40331492,\n",
       "        0.40331492, 0.40331492, 0.40331492, 0.40331492, 0.40331492,\n",
       "        0.39779006, 0.39226519, 0.38674033, 0.38674033, 0.38121547,\n",
       "        0.38121547, 0.38121547, 0.38121547, 0.38121547, 0.38121547,\n",
       "        0.38121547, 0.37569061, 0.37569061, 0.37569061, 0.37569061,\n",
       "        0.37569061, 0.37569061, 0.37569061, 0.37569061, 0.37569061,\n",
       "        0.37569061, 0.37016575, 0.37016575, 0.37016575, 0.37016575,\n",
       "        0.36464088, 0.35911602, 0.35359116, 0.35359116, 0.35359116,\n",
       "        0.35359116, 0.35359116, 0.35359116, 0.35359116, 0.3480663 ,\n",
       "        0.34254144, 0.33701657, 0.33701657, 0.33701657, 0.33701657,\n",
       "        0.33149171, 0.33149171, 0.33149171, 0.32596685, 0.32596685,\n",
       "        0.32044199, 0.31491713, 0.31491713, 0.31491713, 0.31491713,\n",
       "        0.30939227, 0.3038674 , 0.29834254, 0.29281768, 0.29281768,\n",
       "        0.28729282, 0.28729282, 0.28176796, 0.28176796, 0.28176796,\n",
       "        0.28176796, 0.28176796, 0.27624309, 0.27624309, 0.27624309,\n",
       "        0.27624309, 0.27071823, 0.27071823, 0.27071823, 0.27071823,\n",
       "        0.26519337, 0.26519337, 0.26519337, 0.25966851, 0.25414365,\n",
       "        0.24861878, 0.24861878, 0.24309392, 0.24309392, 0.24309392,\n",
       "        0.24309392, 0.24309392, 0.2320442 , 0.2320442 , 0.22099448,\n",
       "        0.20994475, 0.20994475, 0.20994475, 0.20994475, 0.20441989,\n",
       "        0.20441989, 0.1878453 , 0.16574586, 0.1160221 , 0.        ]),\n",
       " 'thresholds': array([0.9552692 , 0.9623003 , 0.9624396 , 0.96442056, 0.9652066 ,\n",
       "        0.9652707 , 0.96647036, 0.9670208 , 0.96713006, 0.96804047,\n",
       "        0.96877396, 0.9690274 , 0.96952134, 0.96969396, 0.9697327 ,\n",
       "        0.96977997, 0.96996886, 0.9700146 , 0.9709031 , 0.9709255 ,\n",
       "        0.97104245, 0.97139055, 0.97223836, 0.9726888 , 0.9729769 ,\n",
       "        0.9730777 , 0.9738136 , 0.9739633 , 0.97420067, 0.97451866,\n",
       "        0.9746161 , 0.9746797 , 0.97525513, 0.9759762 , 0.9762322 ,\n",
       "        0.97635376, 0.97684646, 0.9769055 , 0.97716415, 0.9776231 ,\n",
       "        0.9777335 , 0.9777577 , 0.97783107, 0.97786975, 0.978004  ,\n",
       "        0.97801197, 0.9780288 , 0.9781241 , 0.97817403, 0.9789431 ,\n",
       "        0.9789989 , 0.9791134 , 0.97918266, 0.97927284, 0.9794284 ,\n",
       "        0.9794964 , 0.9797901 , 0.97990143, 0.9803479 , 0.9803709 ,\n",
       "        0.98053974, 0.98054194, 0.98073655, 0.9808693 , 0.98087114,\n",
       "        0.98113215, 0.981283  , 0.9814821 , 0.98156303, 0.9815874 ,\n",
       "        0.9818782 , 0.9819481 , 0.9819904 , 0.9820039 , 0.9820585 ,\n",
       "        0.9821827 , 0.9823021 , 0.9823575 , 0.9823679 , 0.98272395,\n",
       "        0.9827302 , 0.98278254, 0.9827869 , 0.982907  , 0.98309344,\n",
       "        0.9831639 , 0.9833043 , 0.9834196 , 0.98351246, 0.9840521 ,\n",
       "        0.98449636, 0.98458016, 0.9850347 , 0.98512375, 0.98517865,\n",
       "        0.98523575, 0.98526025, 0.98531604, 0.98531723, 0.98542273,\n",
       "        0.98545986, 0.9855596 , 0.98562455, 0.98575795, 0.9857796 ,\n",
       "        0.9859982 , 0.9860023 , 0.9860834 , 0.9861214 , 0.98628515,\n",
       "        0.9864299 , 0.9864555 , 0.9866858 , 0.9867046 , 0.98674   ,\n",
       "        0.9869785 , 0.98697984, 0.9870042 , 0.9870449 , 0.9870598 ,\n",
       "        0.987214  , 0.98723865, 0.98726386, 0.98729295, 0.98740864,\n",
       "        0.9874381 , 0.98752475, 0.98763514, 0.9877166 , 0.98780084,\n",
       "        0.98788047, 0.9879126 , 0.9879253 , 0.9879431 , 0.9879932 ,\n",
       "        0.98802304, 0.98806524, 0.9881529 , 0.9881856 , 0.9882369 ,\n",
       "        0.98826253, 0.98834383, 0.9883509 , 0.98837334, 0.98839074,\n",
       "        0.98845786, 0.9884585 , 0.98848903, 0.9885355 , 0.9886917 ,\n",
       "        0.9887364 , 0.98879725, 0.98891187, 0.98893094, 0.98899823,\n",
       "        0.9890079 , 0.98901045, 0.9890186 , 0.9890487 , 0.9890758 ,\n",
       "        0.989086  , 0.98926646, 0.9892977 , 0.9893828 , 0.98954964,\n",
       "        0.9895509 , 0.98957676, 0.9896129 , 0.98970026, 0.98976827,\n",
       "        0.98980033, 0.98993415, 0.99016356, 0.9903331 , 0.9904306 ,\n",
       "        0.99044883, 0.9904512 , 0.9905614 , 0.9908825 , 0.9909402 ,\n",
       "        0.9909458 , 0.9912358 , 0.99134886, 0.99135303, 0.99138135,\n",
       "        0.991577  , 0.99160874, 0.9916634 , 0.99171907, 0.99176294,\n",
       "        0.99191976, 0.99198645, 0.9921365 , 0.99222964, 0.9922443 ,\n",
       "        0.99227035, 0.99229085, 0.9923177 , 0.99235225, 0.9924812 ,\n",
       "        0.9925449 , 0.9926107 , 0.9926292 , 0.99265504, 0.99276036,\n",
       "        0.99285007, 0.99286735, 0.99294156, 0.99297065, 0.99309856,\n",
       "        0.99313307, 0.99314904, 0.99317473, 0.99317926, 0.9931997 ,\n",
       "        0.99332994, 0.99336904, 0.99347043, 0.9934783 , 0.9937392 ,\n",
       "        0.9937431 , 0.99376726, 0.99377245, 0.99381596, 0.99395436,\n",
       "        0.993995  , 0.99421966, 0.99423695, 0.9943485 , 0.99441844,\n",
       "        0.99443287, 0.994504  , 0.9945429 , 0.9946684 , 0.9946811 ,\n",
       "        0.9947293 , 0.99475664, 0.9947684 , 0.9947842 , 0.99495995,\n",
       "        0.99503183, 0.9950868 , 0.9951724 , 0.99527055, 0.9953917 ,\n",
       "        0.9953979 , 0.9954091 , 0.9955361 , 0.9956357 , 0.9956381 ,\n",
       "        0.99572164, 0.9958538 , 0.9959509 , 0.9959845 , 0.99611425,\n",
       "        0.99627286, 0.9963208 , 0.99633753, 0.9963478 , 0.99649954,\n",
       "        0.99652696, 0.9965546 , 0.99655825, 0.9965642 , 0.99664974,\n",
       "        0.99665374, 0.99677974, 0.9968734 , 0.9970165 , 0.9971842 ,\n",
       "        0.9973468 , 0.9973523 , 0.9973663 , 0.9974507 , 0.997458  ,\n",
       "        0.9974646 , 0.99762744, 0.99768597, 0.99769646, 0.99781585,\n",
       "        0.9978254 , 0.99785674, 0.9978623 , 0.99788266, 0.9979101 ,\n",
       "        0.9979611 , 0.99806273, 0.9981278 , 0.9983656 , 0.99837524,\n",
       "        0.99840045, 0.9984953 , 0.9986122 , 0.9986652 , 0.9987268 ,\n",
       "        0.9987523 , 0.99878186, 0.9989033 , 0.998906  , 0.99894476,\n",
       "        0.9989515 , 0.99895597, 0.9989708 , 0.9989837 , 0.99904627,\n",
       "        0.9990656 , 0.99910456, 0.99914557, 0.9991493 , 0.9991744 ,\n",
       "        0.9991934 , 0.9992165 , 0.999273  , 0.99927706, 0.99929786,\n",
       "        0.9993166 , 0.99934065, 0.9993467 , 0.99936926, 0.99940145,\n",
       "        0.9994186 , 0.99946004, 0.9995108 , 0.999556  , 0.999584  ,\n",
       "        0.9995916 , 0.99960035, 0.9996121 , 0.99963397, 0.9996682 ,\n",
       "        0.99969983, 0.99970543, 0.9997068 , 0.999727  , 0.99973404,\n",
       "        0.99973947, 0.9997604 , 0.999785  , 0.9997881 , 0.99979496,\n",
       "        0.9998421 , 0.99984354, 0.99985534, 0.99985796, 0.99986   ,\n",
       "        0.999869  , 0.999872  , 0.99987304, 0.99988157, 0.9998864 ,\n",
       "        0.9998872 , 0.9998885 , 0.99988943, 0.9998913 , 0.9998915 ,\n",
       "        0.99989384, 0.9998948 , 0.99990565, 0.999906  , 0.99990684,\n",
       "        0.99991125, 0.99991304, 0.99991477, 0.9999156 , 0.99992055,\n",
       "        0.99992394, 0.9999299 , 0.9999304 , 0.99993217, 0.9999349 ,\n",
       "        0.99993557, 0.99993587, 0.99994355, 0.99994826, 0.9999527 ,\n",
       "        0.9999562 , 0.9999606 , 0.9999616 , 0.9999623 , 0.99996233,\n",
       "        0.9999639 , 0.99996394, 0.99996436, 0.9999655 , 0.99996567,\n",
       "        0.9999675 , 0.9999746 , 0.99997544, 0.9999757 , 0.9999759 ,\n",
       "        0.9999764 , 0.99997705, 0.9999787 , 0.9999795 , 0.9999798 ,\n",
       "        0.9999802 , 0.9999827 , 0.99998313, 0.9999832 , 0.9999843 ,\n",
       "        0.999985  , 0.99998546, 0.9999859 , 0.9999875 , 0.9999883 ,\n",
       "        0.99998856, 0.9999887 , 0.9999898 , 0.99999034, 0.99999076,\n",
       "        0.99999106, 0.9999913 , 0.99999183, 0.99999195, 0.9999921 ,\n",
       "        0.9999922 , 0.9999925 , 0.9999928 , 0.9999932 , 0.9999945 ,\n",
       "        0.9999947 , 0.99999505, 0.9999951 , 0.9999952 , 0.9999956 ,\n",
       "        0.9999958 , 0.9999959 , 0.99999595, 0.9999966 , 0.99999666,\n",
       "        0.9999968 , 0.99999684, 0.9999969 , 0.999997  , 0.9999974 ,\n",
       "        0.99999744, 0.9999977 , 0.99999774, 0.9999979 , 0.9999981 ,\n",
       "        0.99999815, 0.9999982 , 0.99999833, 0.99999845, 0.9999985 ,\n",
       "        0.9999986 , 0.9999987 , 0.99999887, 0.9999989 , 0.9999991 ,\n",
       "        0.99999917, 0.9999992 , 0.9999993 , 0.99999934, 0.9999994 ,\n",
       "        0.99999946, 0.9999995 , 0.9999996 , 0.9999997 , 0.99999976,\n",
       "        0.9999998 , 0.9999999 , 0.99999994, 1.        ], dtype=float32),\n",
       " 'lift_at_num_errors': 0.9605018161838772,\n",
       " 'lift_at_100': 0.9885635359116022}"
      ]
     },
     "execution_count": 81,
     "metadata": {},
     "output_type": "execute_result"
    }
   ],
   "source": [
    "rank_with_error = rank_nlp_dataset_final(new_dataset, tokenizer, model, \"\")\n",
    "\n",
    "compute_metrics(rank_with_error,np.array(has_error))"
   ]
  },
  {
   "cell_type": "code",
   "execution_count": null,
   "id": "96b849bd",
   "metadata": {},
   "outputs": [],
   "source": []
  }
 ],
 "metadata": {
  "kernelspec": {
   "display_name": "Python 3",
   "language": "python",
   "name": "python3"
  },
  "language_info": {
   "codemirror_mode": {
    "name": "ipython",
    "version": 3
   },
   "file_extension": ".py",
   "mimetype": "text/x-python",
   "name": "python",
   "nbconvert_exporter": "python",
   "pygments_lexer": "ipython3",
   "version": "3.6.9"
  }
 },
 "nbformat": 4,
 "nbformat_minor": 5
}
