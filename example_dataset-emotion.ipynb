{
 "cells": [
  {
   "cell_type": "code",
   "execution_count": 1,
   "id": "9b63cfc1",
   "metadata": {},
   "outputs": [],
   "source": [
    "import torch\n",
    "from torch import nn\n",
    "from typing import List\n",
    "import torch.nn.functional as F\n",
    "from transformers import AutoTokenizer, AutoModelWithLMHead\n",
    "import pytorch_lightning as pl\n",
    "from torch.utils.data import DataLoader, Dataset\n",
    "import pandas as pd\n",
    "from sklearn.metrics import classification_report\n",
    "torch.__version__\n",
    "from tqdm import tqdm\n",
    "import numpy as np\n",
    "\n",
    "from transformers import T5Tokenizer, T5ForConditionalGeneration"
   ]
  },
  {
   "cell_type": "code",
   "execution_count": 2,
   "id": "b1d6e3a9",
   "metadata": {},
   "outputs": [],
   "source": [
    "# wget https://www.dropbox.com/s/ikkqxfdbdec3fuj/test.txt\n",
    "# wget https://www.dropbox.com/s/1pzkadrvffbqw6o/train.txt\n",
    "# wget https://www.dropbox.com/s/2mzialpsgf9k5l3/val.txt"
   ]
  },
  {
   "cell_type": "code",
   "execution_count": 3,
   "id": "477e9874",
   "metadata": {},
   "outputs": [
    {
     "name": "stderr",
     "output_type": "stream",
     "text": [
      "/datasets/vedang/jup_env/lib/python3.6/site-packages/transformers/models/auto/modeling_auto.py:911: FutureWarning: The class `AutoModelWithLMHead` is deprecated and will be removed in a future version. Please use `AutoModelForCausalLM` for causal language models, `AutoModelForMaskedLM` for masked language models and `AutoModelForSeq2SeqLM` for encoder-decoder models.\n",
      "  FutureWarning,\n"
     ]
    }
   ],
   "source": [
    "# tokenizer = T5Tokenizer.from_pretrained(\"t5-small\")\n",
    "# model = T5ForConditionalGeneration.from_pretrained(\"t5-small\")\n",
    "\n",
    "tokenizer = AutoTokenizer.from_pretrained(\"mrm8488/t5-base-finetuned-emotion\")\n",
    "model = AutoModelWithLMHead.from_pretrained(\"mrm8488/t5-base-finetuned-emotion\")"
   ]
  },
  {
   "cell_type": "code",
   "execution_count": 4,
   "id": "0ec533f0",
   "metadata": {},
   "outputs": [],
   "source": [
    "train_path = \"train.txt\"\n",
    "test_path = \"test.txt\"\n",
    "val_path = \"val.txt\"\n",
    "\n",
    "class CustomDataset(Dataset):\n",
    "    def __init__(self, path):\n",
    "        super().__init__()\n",
    "        self.data_column = \"text\"\n",
    "        self.label_column = \"class\"\n",
    "        self.data = pd.read_csv(path, sep=\";\", header=None, names=[self.data_column, self.label_column],\n",
    "                               engine=\"python\")\n",
    "\n",
    "    def __getitem__(self, idx):\n",
    "        return self.data.loc[idx, self.data_column].strip(), self.data.loc[idx, self.label_column].strip()\n",
    "\n",
    "    def __len__(self):\n",
    "        return self.data.shape[0]"
   ]
  },
  {
   "cell_type": "code",
   "execution_count": 5,
   "id": "42d50e2d",
   "metadata": {},
   "outputs": [],
   "source": [
    "dataset = CustomDataset(val_path)"
   ]
  },
  {
   "cell_type": "code",
   "execution_count": 6,
   "id": "80204673",
   "metadata": {},
   "outputs": [],
   "source": [
    "def rank_nlp_dataset_final(dataset, tokenizer, model, prefix):\n",
    "\n",
    "    from cleanlab.rank import get_label_quality_scores\n",
    "    #### Run the model \n",
    "\n",
    "    def get_emotion_probs(text):\n",
    "        with torch.no_grad():\n",
    "            enc = tokenizer(prefix+text, return_tensors=\"pt\", padding=True)\n",
    "\n",
    "            decoder_input_ids = torch.tensor([tokenizer.pad_token_id]).unsqueeze(0)\n",
    "            \n",
    "            #Alex: If this doesn't work, just swap out this line with a pytorch way of extracting logits\n",
    "            logits = model(**enc, decoder_input_ids=decoder_input_ids)[0]\n",
    "#             tokens = torch.argmax(logits, dim=2)\n",
    "#             emotion = tokenizer.batch_decode(tokens)\n",
    "\n",
    "            # logits.shape = [1,1,32138]\n",
    "        return F.softmax(logits,dim=2).squeeze(0)\n",
    "    \n",
    "    ## Get pred probs\n",
    "    pred_probs=[]\n",
    "    given = []\n",
    "    for idx in tqdm(range(len(dataset))):\n",
    "        text,target_emo = dataset[idx]\n",
    "        pred_probs.append(get_emotion_probs(text)[0])\n",
    "        given.append(tokenizer.encode(target_emo)[:-1])\n",
    "\n",
    "        \n",
    "    ## Prep for cleanlab\n",
    "    pred_probs = np.stack(pred_probs)\n",
    "    given = np.array(given)\n",
    "    \n",
    "    ranked_label_issues = get_label_quality_scores(given, pred_probs)\n",
    "    return ranked_label_issues"
   ]
  },
  {
   "cell_type": "code",
   "execution_count": 9,
   "id": "24b8ecaf",
   "metadata": {},
   "outputs": [
    {
     "name": "stderr",
     "output_type": "stream",
     "text": [
      "100%|██████████| 2000/2000 [01:18<00:00, 25.49it/s]\n"
     ]
    }
   ],
   "source": [
    "rank3 = rank_nlp_dataset_final(dataset, tokenizer, model, \"\")"
   ]
  },
  {
   "cell_type": "code",
   "execution_count": 10,
   "id": "91ba14ba",
   "metadata": {},
   "outputs": [],
   "source": [
    "dataset_indicies = np.where(rank3>0.99)[0]"
   ]
  },
  {
   "cell_type": "code",
   "execution_count": 11,
   "id": "d8295516",
   "metadata": {},
   "outputs": [],
   "source": [
    "emotions = [\"sadness\" ,\"joy\", \"love\", \"anger\", \"fear\" ,\"surprise\" ]"
   ]
  },
  {
   "cell_type": "code",
   "execution_count": 34,
   "id": "a7c18d32",
   "metadata": {},
   "outputs": [],
   "source": [
    "from sklearn.metrics import precision_recall_curve, auc, roc_auc_score, roc_curve\n",
    "import matplotlib.pyplot as plt\n",
    "def lift_at_k(y_true: np.array, y_score: np.array, k: int = 100) -> float:\n",
    "    \"\"\"Compute Lift at K evaluation metric\"\"\"\n",
    "\n",
    "    # sort scores\n",
    "    sort_indices = np.argsort(y_score)\n",
    "\n",
    "    # compute lift for the top k values\n",
    "    lift_at_k = y_true[sort_indices][-k:].mean() / y_true.mean()\n",
    "\n",
    "    return lift_at_k\n",
    "\n",
    "def compute_metrics(scores: np.array, true_error: np.array, metrics_metadata: dict={}, plot=True) -> dict:\n",
    "    \"\"\"\n",
    "    Uses passed in `scores` of length (N,) and `true_error` mask of length (N,) to calculate metrics for the data.\n",
    "    \n",
    "    Parameters\n",
    "    ----------\n",
    "    scores : np.ndarray\n",
    "      Scores per example with values [0,1]. Smaller values indicating examples that are more likeley to have error. \n",
    "      Can come directly from calclation like `scores = get_label_quality_scores()`.\n",
    "    \n",
    "    true_error : np.ndarray\n",
    "      Binary mask indicating which examples have error with 1 = error and 0 = no error.\n",
    "      \n",
    "    metrics_metadata : dict\n",
    "      Additional information to append to the calculated metrics dict.\n",
    "      \n",
    "    Returns\n",
    "    -------\n",
    "    metrics : dict\n",
    "      A dictionary of computed metrics given `scores` and `true_error`. \n",
    "    \"\"\"\n",
    "    # compute precision-recall curve using quality scores\n",
    "    precision, recall, thresholds = precision_recall_curve(true_error, 1 - scores)\n",
    "    \n",
    "    # compute prc auc scores\n",
    "    auprc = auc(recall, precision)\n",
    "    \n",
    "    # compute accuracy of detecting errors\n",
    "    auroc = roc_auc_score(true_error, 1 - scores)\n",
    "\n",
    "    # lift at K where K = number of errors\n",
    "    lift_at_num_errors = lift_at_k(true_error, 1 - scores, k=true_error.sum())\n",
    "\n",
    "    # lift at k=100\n",
    "    lift_at_100 = lift_at_k(true_error, 1 - scores, k=100)\n",
    "    \n",
    "    # feel free to add your own metrics\n",
    "    metrics = {\n",
    "        \"dataset_num_samples\": len(scores),\n",
    "        \"dataset_num_errors\": true_error.sum(),\n",
    "        \"auroc\": auroc,\n",
    "        \"auprc\": auprc,\n",
    "        \"precision\": precision,\n",
    "        \"recall\": recall,\n",
    "        \"thresholds\": thresholds,\n",
    "        \"lift_at_num_errors\": lift_at_num_errors,\n",
    "        \"lift_at_100\": lift_at_100,\n",
    "    }\n",
    "    \n",
    "    if len(metrics_metadata) > 0:\n",
    "        metrics = {**metrics_metadata, **metrics}\n",
    "        \n",
    "    if plot:\n",
    "        fpr, tpr, _ = roc_curve(true_error, 1-scores) \n",
    "        fig1,(ax1, ax2) = plt.subplots(1,2, figsize=(10,5))\n",
    "        ax1.plot(fpr, tpr)\n",
    "        ax1.set_xlabel(\"False Positive Rate\")\n",
    "        ax1.set_ylabel(\"True Positive Rate\")\n",
    "        ax1.set_title(f\"AUROC={auroc}\")\n",
    "        ax2.plot(recall, precision) \n",
    "        ax2.set_xlabel(\"Recall\")\n",
    "        ax2.set_title(f\"AUPRC={auprc}\")\n",
    "        ax2.set_ylabel(\"Precision\")\n",
    "        plt.show()\n",
    "        \n",
    "    return metrics"
   ]
  },
  {
   "cell_type": "code",
   "execution_count": null,
   "id": "1c10b61b",
   "metadata": {},
   "outputs": [],
   "source": [
    "random.seed(self, seed=4)"
   ]
  },
  {
   "cell_type": "code",
   "execution_count": 31,
   "id": "064e8d1d",
   "metadata": {},
   "outputs": [],
   "source": [
    "has_error = []\n",
    "new_dataset = {}\n",
    "for idx in range(len(dataset_indicies)):\n",
    "    source,target = dataset[idx]\n",
    "    if np.random.random() >0.7:\n",
    "        target = np.random.choice(emotions, 1)[0]\n",
    "        has_error.append(1)\n",
    "    else:\n",
    "        has_error.append(0)\n",
    "    new_dataset[idx] = source, target\n",
    "    \n",
    "    "
   ]
  },
  {
   "cell_type": "code",
   "execution_count": 32,
   "id": "c8f446f4",
   "metadata": {},
   "outputs": [
    {
     "name": "stderr",
     "output_type": "stream",
     "text": [
      "100%|██████████| 1730/1730 [01:08<00:00, 25.39it/s]\n"
     ]
    }
   ],
   "source": [
    "rank_with_error = rank_nlp_dataset_final(new_dataset, tokenizer, model, \"\")"
   ]
  },
  {
   "cell_type": "code",
   "execution_count": 35,
   "id": "8a2b3e3a",
   "metadata": {},
   "outputs": [
    {
     "data": {
      "image/png": "[encoded data removed]",
      "text/plain": [
       "<Figure size 720x360 with 2 Axes>"
      ]
     },
     "metadata": {
      "needs_background": "light"
     },
     "output_type": "display_data"
    },
    {
     "data": {
      "text/plain": [
       "{'dataset_num_samples': 1730,\n",
       " 'dataset_num_errors': 521,\n",
       " 'auroc': 0.920952739292161,\n",
       " 'auprc': 0.9180677685662069,\n",
       " 'precision': array([0.30343623, 0.3030303 , 0.303207  , ..., 1.        , 1.        ,\n",
       "        1.        ]),\n",
       " 'recall': array([1.        , 0.99808061, 0.99808061, ..., 0.11132438, 0.05566219,\n",
       "        0.        ]),\n",
       " 'thresholds': array([1.8119812e-05, 1.8477440e-05, 1.8715858e-05, ..., 9.9999988e-01,\n",
       "        9.9999994e-01, 1.0000000e+00], dtype=float32),\n",
       " 'lift_at_num_errors': 2.8170394302997708,\n",
       " 'lift_at_100': 3.320537428023033}"
      ]
     },
     "execution_count": 35,
     "metadata": {},
     "output_type": "execute_result"
    }
   ],
   "source": [
    "compute_metrics(rank_with_error,np.array(has_error))"
   ]
  },
  {
   "cell_type": "code",
   "execution_count": null,
   "id": "e128f61e",
   "metadata": {},
   "outputs": [],
   "source": []
  }
 ],
 "metadata": {
  "kernelspec": {
   "display_name": "Python 3",
   "language": "python",
   "name": "python3"
  },
  "language_info": {
   "codemirror_mode": {
    "name": "ipython",
    "version": 3
   },
   "file_extension": ".py",
   "mimetype": "text/x-python",
   "name": "python",
   "nbconvert_exporter": "python",
   "pygments_lexer": "ipython3",
   "version": "3.6.9"
  }
 },
 "nbformat": 4,
 "nbformat_minor": 5
}
